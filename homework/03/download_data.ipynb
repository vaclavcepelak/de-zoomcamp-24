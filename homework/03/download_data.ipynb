{
 "cells": [
  {
   "cell_type": "code",
   "execution_count": 2,
   "metadata": {},
   "outputs": [],
   "source": [
    "import requests\n",
    "from google.cloud import storage\n",
    "from io import BytesIO\n",
    "from datetime import datetime"
   ]
  },
  {
   "cell_type": "code",
   "execution_count": 6,
   "metadata": {},
   "outputs": [],
   "source": [
    "\n",
    "# Configuration\n",
    "bucket_name = 'mage-zoomcamp-vaclav-cepelak'\n",
    "folder_name = 'homework_03'\n",
    "url_template = 'https://d37ci6vzurychx.cloudfront.net/trip-data/green_tripdata_{}.parquet'  # Example URL\n",
    "months = [f'2022-{i:02}' for i in range(1, 13)]"
   ]
  },
  {
   "cell_type": "code",
   "execution_count": 7,
   "metadata": {},
   "outputs": [],
   "source": [
    "\n",
    "# Initialize GCS client\n",
    "storage_client = storage.Client()\n",
    "bucket = storage_client.bucket(bucket_name)"
   ]
  },
  {
   "cell_type": "code",
   "execution_count": 8,
   "metadata": {},
   "outputs": [],
   "source": [
    "\n",
    "# Function to download and upload a file\n",
    "def download_and_upload(month):\n",
    "    url = url_template.format(month)\n",
    "    response = requests.get(url)\n",
    "\n",
    "    if response.status_code == 200:\n",
    "        # Prepare file to upload\n",
    "        file_name = f'{folder_name}/monthly_data_{month}.parquet'\n",
    "        blob = bucket.blob(file_name)\n",
    "\n",
    "        # Upload the file\n",
    "        blob.upload_from_string(\n",
    "            response.content, content_type='application/octet-stream')\n",
    "        print(f'Successfully uploaded {file_name} to {bucket_name}')\n",
    "    else:\n",
    "        print(f'Failed to download data for {month}')"
   ]
  },
  {
   "cell_type": "code",
   "execution_count": 9,
   "metadata": {},
   "outputs": [
    {
     "name": "stdout",
     "output_type": "stream",
     "text": [
      "Successfully uploaded homework_03/monthly_data_2022-01.parquet to mage-zoomcamp-vaclav-cepelak\n",
      "Successfully uploaded homework_03/monthly_data_2022-02.parquet to mage-zoomcamp-vaclav-cepelak\n",
      "Successfully uploaded homework_03/monthly_data_2022-03.parquet to mage-zoomcamp-vaclav-cepelak\n",
      "Successfully uploaded homework_03/monthly_data_2022-04.parquet to mage-zoomcamp-vaclav-cepelak\n",
      "Successfully uploaded homework_03/monthly_data_2022-05.parquet to mage-zoomcamp-vaclav-cepelak\n",
      "Successfully uploaded homework_03/monthly_data_2022-06.parquet to mage-zoomcamp-vaclav-cepelak\n",
      "Successfully uploaded homework_03/monthly_data_2022-07.parquet to mage-zoomcamp-vaclav-cepelak\n",
      "Successfully uploaded homework_03/monthly_data_2022-08.parquet to mage-zoomcamp-vaclav-cepelak\n",
      "Successfully uploaded homework_03/monthly_data_2022-09.parquet to mage-zoomcamp-vaclav-cepelak\n",
      "Successfully uploaded homework_03/monthly_data_2022-10.parquet to mage-zoomcamp-vaclav-cepelak\n",
      "Successfully uploaded homework_03/monthly_data_2022-11.parquet to mage-zoomcamp-vaclav-cepelak\n",
      "Successfully uploaded homework_03/monthly_data_2022-12.parquet to mage-zoomcamp-vaclav-cepelak\n"
     ]
    }
   ],
   "source": [
    "for month in months:\n",
    "    download_and_upload(month)"
   ]
  }
 ],
 "metadata": {
  "kernelspec": {
   "display_name": "Python 3",
   "language": "python",
   "name": "python3"
  },
  "language_info": {
   "codemirror_mode": {
    "name": "ipython",
    "version": 3
   },
   "file_extension": ".py",
   "mimetype": "text/x-python",
   "name": "python",
   "nbconvert_exporter": "python",
   "pygments_lexer": "ipython3",
   "version": "3.12.0"
  }
 },
 "nbformat": 4,
 "nbformat_minor": 2
}
